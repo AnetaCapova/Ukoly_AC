{
 "cells": [
  {
   "cell_type": "code",
   "execution_count": 19,
   "metadata": {},
   "outputs": [
    {
     "name": "stdout",
     "output_type": "stream",
     "text": [
      "['Příjmení\\tJméno\\tTest 1\\tTest 2\\tTest 3\\tTest 4\\tTest 5\\tTest 6\\n', 'Krčmarský\\tStanislav\\t2\\t5\\t4\\t1\\t5\\t1\\n', 'Švára\\tVladimír\\t4\\t1\\t5\\t2\\t2\\t4\\n', 'Barvíková\\tErika\\t1\\t5\\t1\\t3\\t2\\t5\\n', 'Swárovský\\tDavid\\t2\\t3\\t1\\t5\\t1\\t5\\n', 'Viktorin\\tMiloslav\\t4\\t5\\t5\\t3\\t2\\t2\\n', 'Tichá\\tJana\\t1\\t3\\t5\\t1\\t1\\t5\\n', 'Le Thi Kim\\tIveta\\t5\\t2\\t4\\t3\\t2\\t1\\n', 'Grymová\\tMilena\\t2\\t3\\t1\\t3\\t2\\t2\\n', 'Tylšová\\tZdeňka\\t5\\t1\\t1\\t1\\t2\\t4\\n', 'Németh\\tPavel\\t1\\t4\\t1\\t3\\t5\\t5\\n', 'Fialová\\tJaroslava\\t4\\t1\\t5\\t5\\t1\\t2\\n', 'Kargeradová\\tAgáta\\t3\\t2\\t1\\t1\\t2\\t1\\n', 'Bartyzalová\\tJarmila\\t5\\t3\\t2\\t2\\t1\\t1\\n', 'Michalica\\tJiří\\t5\\t3\\t4\\t1\\t5\\t2\\n', 'Lauerová\\tTereza\\t1\\t5\\t1\\t3\\t1\\t4\\n', 'Veselá\\tBarbora\\t3\\t1\\t3\\t2\\t3\\t3\\n', 'Bartoš\\tMilan\\t1\\t2\\t1\\t2\\t1\\t1\\n', 'Sál\\tVratislav\\t4\\t1\\t3\\t2\\t1\\t4\\n', 'Flieger\\tPřemysl\\t1\\t3\\t2\\t1\\t1\\t4\\n', 'Matlachová\\tMartina\\t1\\t1\\t3\\t4\\t4\\t3\\n', 'Abraham\\tJan\\t2\\t2\\t1\\t5\\t1\\t1\\n', 'Koubská\\tMonika\\t2\\t2\\t4\\t3\\t4\\t3\\n', 'Špaček\\tRoman\\t1\\t1\\t4\\t1\\t4\\t1\\n', 'Horníková\\tLudmila\\t2\\t2\\t5\\t1\\t4\\t1']\n"
     ]
    }
   ],
   "source": [
    "with open (\"znamky.csv\", mode=\"r\", encoding='utf-8') as vstup:\n",
    "    radky = vstup.readlines()\n",
    "print(radky)"
   ]
  },
  {
   "cell_type": "markdown",
   "metadata": {},
   "source": [
    "nový řádek = '\\n' a tabulátor = '\\t'"
   ]
  },
  {
   "cell_type": "code",
   "execution_count": 14,
   "metadata": {},
   "outputs": [
    {
     "name": "stdout",
     "output_type": "stream",
     "text": [
      "[1, 2, 3, 4, 5]\n"
     ]
    }
   ],
   "source": [
    "znamky = [1, 2, 3, 4, 5]\n",
    "retezec_znamky = str(znamky)\n",
    "print(znamky)"
   ]
  },
  {
   "cell_type": "code",
   "execution_count": 32,
   "metadata": {},
   "outputs": [
    {
     "ename": "AttributeError",
     "evalue": "'list' object has no attribute 'replace'",
     "output_type": "error",
     "traceback": [
      "\u001b[1;31m---------------------------------------------------------------------------\u001b[0m",
      "\u001b[1;31mAttributeError\u001b[0m                            Traceback (most recent call last)",
      "Cell \u001b[1;32mIn [32], line 2\u001b[0m\n\u001b[0;32m      1\u001b[0m \u001b[39mfor\u001b[39;00m retezec_znamky \u001b[39min\u001b[39;00m radky:\n\u001b[1;32m----> 2\u001b[0m         radky\u001b[39m.\u001b[39;49mreplace(\u001b[39m\"\u001b[39m\u001b[39m1\u001b[39m\u001b[39m\"\u001b[39m, \u001b[39m\"\u001b[39m\u001b[39mA\u001b[39m\u001b[39m\"\u001b[39m)\n\u001b[0;32m      3\u001b[0m         radky\u001b[39m.\u001b[39mreplace(\u001b[39m\"\u001b[39m\u001b[39m2\u001b[39m\u001b[39m\"\u001b[39m, \u001b[39m\"\u001b[39m\u001b[39mB\u001b[39m\u001b[39m\"\u001b[39m)\n\u001b[0;32m      4\u001b[0m         radky\u001b[39m.\u001b[39mreplace(\u001b[39m\"\u001b[39m\u001b[39m3\u001b[39m\u001b[39m\"\u001b[39m, \u001b[39m\"\u001b[39m\u001b[39mC\u001b[39m\u001b[39m\"\u001b[39m)\n",
      "\u001b[1;31mAttributeError\u001b[0m: 'list' object has no attribute 'replace'"
     ]
    }
   ],
   "source": [
    "for retezec_znamky in radky:\n",
    "        radky.replace(\"1\", \"A\")\n",
    "        radky.replace(\"2\", \"B\")\n",
    "        radky.replace(\"3\", \"C\")\n",
    "        radky.replace(\"4\", \"D\")\n",
    "        radky.replace(\"5\", \"F\")"
   ]
  },
  {
   "cell_type": "code",
   "execution_count": 26,
   "metadata": {},
   "outputs": [],
   "source": [
    "with open('znamky_2.csv', mode='w', encoding='utf-8') as vystup:\n",
    "    # for znamka in znamky:\n",
    "    #     znamky.replace(\"1\", \"A\")\n",
    "    #     znamky.replace(\"2\", \"B\")\n",
    "    #     znamky.replace(\"3\", \"C\")\n",
    "    #     znamky.replace(\"4\", \"D\")\n",
    "    #     znamky.replace(\"5\", \"F\")\n",
    "    vystup.writelines(retezec_znamky)"
   ]
  }
 ],
 "metadata": {
  "kernelspec": {
   "display_name": "Python 3.9.10 64-bit",
   "language": "python",
   "name": "python3"
  },
  "language_info": {
   "codemirror_mode": {
    "name": "ipython",
    "version": 3
   },
   "file_extension": ".py",
   "mimetype": "text/x-python",
   "name": "python",
   "nbconvert_exporter": "python",
   "pygments_lexer": "ipython3",
   "version": "3.9.10"
  },
  "orig_nbformat": 4,
  "vscode": {
   "interpreter": {
    "hash": "f1e5a6ca7a12486343c45f5028fc121c8ee5e858e6336c0cfd631b1902fe894a"
   }
  }
 },
 "nbformat": 4,
 "nbformat_minor": 2
}
