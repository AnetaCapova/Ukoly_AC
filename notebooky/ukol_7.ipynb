{
 "cells": [
  {
   "cell_type": "code",
   "execution_count": 85,
   "metadata": {},
   "outputs": [],
   "source": [
    "from datetime import datetime, timedelta"
   ]
  },
  {
   "cell_type": "code",
   "execution_count": 86,
   "metadata": {},
   "outputs": [
    {
     "data": {
      "text/plain": [
       "datetime.datetime(2022, 11, 21, 21, 29, 21, 565812)"
      ]
     },
     "execution_count": 86,
     "metadata": {},
     "output_type": "execute_result"
    }
   ],
   "source": [
    "datetime.now()"
   ]
  },
  {
   "cell_type": "code",
   "execution_count": 87,
   "metadata": {},
   "outputs": [
    {
     "name": "stdout",
     "output_type": "stream",
     "text": [
      "11. 8. 2021\n"
     ]
    }
   ],
   "source": [
    "datum = input(\"Zadejte datum ve středoevropském formátu (např. 1. 1. 2022): \")\n",
    "print(datum)\n"
   ]
  },
  {
   "cell_type": "code",
   "execution_count": 88,
   "metadata": {},
   "outputs": [
    {
     "name": "stdout",
     "output_type": "stream",
     "text": [
      "2021-08-11 00:00:00\n"
     ]
    }
   ],
   "source": [
    "prevedene_datum = datetime.strptime(datum, \"%d. %m. %Y\")\n",
    "print(prevedene_datum)"
   ]
  },
  {
   "cell_type": "code",
   "execution_count": 89,
   "metadata": {},
   "outputs": [
    {
     "name": "stdout",
     "output_type": "stream",
     "text": [
      "10\n"
     ]
    }
   ],
   "source": [
    "pocet_osob = input(\"Zadejte počet osob: \")\n",
    "cislo_pocet_osob = int(pocet_osob)\n",
    "print(cislo_pocet_osob)"
   ]
  },
  {
   "cell_type": "code",
   "execution_count": 90,
   "metadata": {},
   "outputs": [
    {
     "name": "stdout",
     "output_type": "stream",
     "text": [
      "250\n"
     ]
    }
   ],
   "source": [
    "cena_vstupenky1 = 250\n",
    "cena_vstupenky2 = 180\n",
    "print(cena_vstupenky1)"
   ]
  },
  {
   "cell_type": "code",
   "execution_count": 91,
   "metadata": {},
   "outputs": [
    {
     "name": "stdout",
     "output_type": "stream",
     "text": [
      "2021-07-01 00:00:00\n"
     ]
    }
   ],
   "source": [
    "otevreno1 = datetime(2021, 7, 1)\n",
    "print(otevreno1)"
   ]
  },
  {
   "cell_type": "code",
   "execution_count": 92,
   "metadata": {},
   "outputs": [
    {
     "name": "stdout",
     "output_type": "stream",
     "text": [
      "2021-08-10 00:00:00\n"
     ]
    }
   ],
   "source": [
    "zavreno1 = datetime(2021, 8, 10)\n",
    "print(zavreno1)"
   ]
  },
  {
   "cell_type": "code",
   "execution_count": 93,
   "metadata": {},
   "outputs": [
    {
     "name": "stdout",
     "output_type": "stream",
     "text": [
      "2021-08-11 00:00:00\n"
     ]
    }
   ],
   "source": [
    "otevreno2 = datetime(2021, 8, 11)\n",
    "print(otevreno2)"
   ]
  },
  {
   "cell_type": "code",
   "execution_count": 94,
   "metadata": {},
   "outputs": [
    {
     "name": "stdout",
     "output_type": "stream",
     "text": [
      "2021-08-31 00:00:00\n"
     ]
    }
   ],
   "source": [
    "zavreno2 = datetime(2021, 8, 31)\n",
    "print(zavreno2)"
   ]
  },
  {
   "cell_type": "code",
   "execution_count": 95,
   "metadata": {},
   "outputs": [
    {
     "name": "stdout",
     "output_type": "stream",
     "text": [
      "1800\n"
     ]
    }
   ],
   "source": [
    "if prevedene_datum >= otevreno1 and prevedene_datum <= zavreno1:\n",
    "    cena_celkem = cena_vstupenky1 * cislo_pocet_osob\n",
    "    print(cena_celkem)\n",
    "elif prevedene_datum >= otevreno2 and prevedene_datum <= zavreno2:\n",
    "    cena_celkem = cena_vstupenky2 * cislo_pocet_osob\n",
    "    print(cena_celkem)\n",
    "else: \n",
    "    print(\"Letní kino je v tomto termínu zavřené.\")"
   ]
  }
 ],
 "metadata": {
  "kernelspec": {
   "display_name": "Python 3.9.10 64-bit",
   "language": "python",
   "name": "python3"
  },
  "language_info": {
   "codemirror_mode": {
    "name": "ipython",
    "version": 3
   },
   "file_extension": ".py",
   "mimetype": "text/x-python",
   "name": "python",
   "nbconvert_exporter": "python",
   "pygments_lexer": "ipython3",
   "version": "3.9.10"
  },
  "orig_nbformat": 4,
  "vscode": {
   "interpreter": {
    "hash": "f1e5a6ca7a12486343c45f5028fc121c8ee5e858e6336c0cfd631b1902fe894a"
   }
  }
 },
 "nbformat": 4,
 "nbformat_minor": 2
}
